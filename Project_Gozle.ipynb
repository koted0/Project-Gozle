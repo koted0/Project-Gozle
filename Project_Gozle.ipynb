{
  "cells": [
    {
      "cell_type": "markdown",
      "metadata": {
        "id": "view-in-github",
        "colab_type": "text"
      },
      "source": [
        "<a href=\"https://colab.research.google.com/github/koted0/Project-Gozle/blob/main/Project_Gozle.ipynb\" target=\"_parent\"><img src=\"https://colab.research.google.com/assets/colab-badge.svg\" alt=\"Open In Colab\"/></a>"
      ]
    },
    {
      "cell_type": "markdown",
      "metadata": {
        "id": "ZyuT86k0PxG3"
      },
      "source": [
        "## Package Instalations, Imports and Const Links"
      ]
    },
    {
      "cell_type": "code",
      "execution_count": null,
      "metadata": {
        "id": "HTAg4W-NPevt"
      },
      "outputs": [],
      "source": [
        "!pip install selenium\n",
        "!pip install yt-dlp\n",
        "!apt update\n",
        "!apt install chromium-chromedriver -y\n",
        "!apt install ffmpeg\n",
        "!rm -R sample_data/\n",
        "!clear"
      ]
    },
    {
      "cell_type": "code",
      "execution_count": null,
      "metadata": {
        "id": "ONRUi4CZhXua"
      },
      "outputs": [],
      "source": [
        "import requests\n",
        "import re\n",
        "import os\n",
        "import json\n",
        "\n",
        "from requests.structures import CaseInsensitiveDict\n",
        "# from yt_dlp import YoutubeDL\n",
        "from selenium import webdriver\n",
        "from selenium.webdriver.common.by import By\n",
        "from selenium.webdriver.chrome.service import Service\n",
        "from selenium.webdriver.support.ui import WebDriverWait\n",
        "from selenium.webdriver.support import expected_conditions as EC\n",
        "from time import sleep\n",
        "from google.colab import userdata\n",
        "from queue import Queue\n",
        "from selenium.common import ElementNotInteractableException, NoSuchElementException"
      ]
    },
    {
      "cell_type": "code",
      "execution_count": null,
      "metadata": {
        "id": "rloBtuQEx34a"
      },
      "outputs": [],
      "source": [
        "GOZLE_URL = \"https://disk.gozle.com.tm/login\""
      ]
    },
    {
      "cell_type": "markdown",
      "metadata": {
        "id": "CIWvBzy4jdTc"
      },
      "source": [
        "## Downloader"
      ]
    },
    {
      "cell_type": "code",
      "execution_count": null,
      "metadata": {
        "id": "DZ-5RQVonK08"
      },
      "outputs": [],
      "source": [
        "class Downloader:\n",
        "    def __init__(self):\n",
        "        self.download_list: Queue = Queue()\n",
        "        self.video_quality: dict = { \"hd\": \"res:720\", \"fhd\": \"res:1080\", 'uhd': \"res:2160\" }\n",
        "        self.youtube_pattern = re.compile(r\"(?:https?:\\/\\/)?(?:www\\.)?youtu\\.?be(?:\\.com)?\\/?.*(?:watch|embed)?(?:.*v=|v\\/|\\/)([\\w\\-_]+)\\&?\")\n",
        "\n",
        "\n",
        "    def _get_headers(self, url: str) -> requests.Response:\n",
        "        with requests.head(url) as response:\n",
        "            try:\n",
        "                return response.headers\n",
        "            except Exception:\n",
        "                print(\"\\n\\033[1;33m [WARNING]: No headers in response \\n\\033[0m\")\n",
        "                return None\n",
        "\n",
        "    def _get_filename_from_header(self, header: CaseInsensitiveDict) -> str | None:\n",
        "        try:\n",
        "            content_disposition = header.get('content-disposition', '')\n",
        "            if \"filename=\" in content_disposition:\n",
        "                filename = content_disposition.split(\"filename=\")[-1].strip('\"')\n",
        "            else:\n",
        "                print(\"\\n\\033[1;33m [WARNING]: No filename in headers \\033[0m\")\n",
        "                return None\n",
        "        except Exception:\n",
        "            print(\"\\n\\033[1;33m [WARNING]: Unexpected error occurred while extracting filename \\n\\033[0m\")\n",
        "            return None\n",
        "\n",
        "    def _get_filename_from_url(self, url: str) -> str:\n",
        "        filename = url.split(\"/\")[-1]\n",
        "        return filename if \"?\" not in filename else filename.split(\"?\")[0]\n",
        "\n",
        "    def _get_proper_name(self, url: str) -> str:\n",
        "        headers = self._get_headers(url)\n",
        "        if headers:\n",
        "            filename = self._get_filename_from_header(headers)\n",
        "            if filename:\n",
        "                return filename\n",
        "            return self._get_filename_from_url(url)\n",
        "\n",
        "    def _is_file_exists(self, filename: str, path: str) -> bool:\n",
        "        file_path = os.path.join(path, filename)\n",
        "        return os.path.exists(file_path)\n",
        "\n",
        "    def _download_other(self, url: str) -> None:\n",
        "        path = \"/content/others/\"\n",
        "        filename = self._get_proper_name(url)\n",
        "        if self._is_file_exists(path, filename):\n",
        "            print(f\"\\n\\033[1;37m [INFO]: File: {filename} exists. Skipping \\033[0m\")\n",
        "        else:\n",
        "            !curl -o {path}{self._get_proper_name(url)} -L --create-dirs {url}\n",
        "\n",
        "    # TODO: перехватывать название видео и вес\n",
        "    def _download_youtube(self, url: str, quality_key: str) -> None:\n",
        "        path = \"/content/videos/\"\n",
        "        quality = self.video_quality[quality_key] if quality_key else \"res:720\"\n",
        "        !yt-dlp -S {quality} {url} -P {path}\n",
        "\n",
        "    def add_url(self, url: str, quality_key: str = None) -> None:\n",
        "        \"\"\"Add a URL to the download list.\"\"\"\n",
        "        self.download_list.put((url, quality_key))\n",
        "\n",
        "    def add_downloads_from_file(self, path2file: str) -> None:\n",
        "        with open(path2file, 'r') as file:\n",
        "            [self.add_url(url.strip()) for url in file]\n",
        "\n",
        "    def download(self) -> None:\n",
        "        \"\"\"Download all URLs in the download list.\"\"\"\n",
        "        while not self.download_list.empty():\n",
        "            url, quality_key = self.download_list.get()\n",
        "            if re.match(self.youtube_pattern, url):\n",
        "                self._download_youtube(url, quality_key)\n",
        "            else:\n",
        "                self._download_other(url)\n",
        "        else: print(\"\\n\\033[1;32m [INFO]: Downloading Finished \\033[0m\")\n"
      ]
    },
    {
      "cell_type": "markdown",
      "metadata": {
        "id": "gAGPcZQJHKch"
      },
      "source": [
        "## Gozle Disk Uploader (Selenium)"
      ]
    },
    {
      "cell_type": "code",
      "execution_count": null,
      "metadata": {
        "id": "4nQg1pF1-1W4"
      },
      "outputs": [],
      "source": [
        "class Uploader:\n",
        "    def __init__(self):\n",
        "        self._gozle_username = userdata.get(\"username\")\n",
        "        self._gozle_password = userdata.get(\"password\")\n",
        "        self.archive_paths: dict = {}\n",
        "\n",
        "    def _set_webdriver_options(self):\n",
        "        chrome_options = webdriver.ChromeOptions()\n",
        "        chrome_options.set_capability(\"goog:LoggingPrefs\", {\"performance\": \"ALL\"})\n",
        "        chrome_options.add_argument('--headless')\n",
        "        chrome_options.add_argument('--no-sandbox')\n",
        "        chrome_options.add_argument('--disable-dev-shm-usage')\n",
        "        self.driver = webdriver.Chrome(options=chrome_options)\n",
        "        self.driver.maximize_window()\n",
        "        self.wait = WebDriverWait(self.driver, 10)\n",
        "\n",
        "    def login(self):\n",
        "        self._set_webdriver_options()\n",
        "        self.driver.get(GOZLE_URL)\n",
        "        self.driver.find_element(By.NAME,value='email').send_keys(self._gozle_username)\n",
        "        self.driver.find_element(By.NAME,value='password').send_keys(self._gozle_password)\n",
        "        self.driver.find_element(By.CSS_SELECTOR, 'button[type = \\'submit\\']').click()\n",
        "\n",
        "    # TODO: доделать realtime отслеживание количества загружаемых файлов и вес.\n",
        "    # def _how_much_is_left(self):\n",
        "    #     uploading_menu = driver.find_element(By.XPATH, '//*[@id=\"root\"]/div[2]/div[5]/div[1]')\n",
        "    #     for perf_entry in self.driver.get_log(\"performance\"):\n",
        "    #         perf_entry[\"message\"] = json.loads(perf_entry[\"message\"])[\"message\"]\n",
        "    #         print(perf_entry)\n",
        "\n",
        "    def _archive_data(self):\n",
        "        print(f\"\\n\\033[1;33m [INFO]: Starting archiving \\033[0m\")\n",
        "        if os.path.isdir(\"/content/others/\"):\n",
        "            !zip -r -m -s 4400m others /content/others/\n",
        "        if os.path.isdir('/content/videos/'):\n",
        "            !zip -r -m -s 4400m videos /content/videos/\n",
        "\n",
        "        cwd = os.getcwd()\n",
        "        files = [file for file in os.listdir(cwd) if not file.startswith('.') \\\n",
        "                 and not file.endswith('.png')]\n",
        "        for file in files:\n",
        "            self.archive_paths[file] = os.path.join(cwd, file)\n",
        "\n",
        "    def upload(self):\n",
        "        self._archive_data()\n",
        "        max_attempts = 3\n",
        "\n",
        "        # модифицировать код для использования встроенных возможностей selenium ждать и перехватывать ошибки.\n",
        "        for filename, path in self.archive_paths.items():\n",
        "            for attempt in range(max_attempts):\n",
        "                try:\n",
        "                    self.driver.find_element (By.XPATH, \"//div//div[2]//div//div//div//button[starts-with(@id, ':r')]\").click()\n",
        "                    self.driver.find_element(By.XPATH, \"//div[@data-value='uploadFiles']\").click()\n",
        "                    self.driver.find_element(By.CSS_SELECTOR, value='input[type = \\'file\\']').send_keys(path)\n",
        "                    print(f\"\\n\\033[1;37m [INFO]: Uploading {filename} \\033[0m\")\n",
        "                    break\n",
        "                except (NoSuchElementException, ElementNotInteractableException) as error:\n",
        "                    print(f\"\\033[1;33m [WARNING]: Attempt {attempt+1} failed with error: {error}\")\n",
        "                    if attempt+1 == max_attempts:\n",
        "                        print(f\"\\033[1;31m [ERROR]: Max attempts reached, moving to next file\")\n",
        "            # self._how_much_is_left()\n",
        "            self.screenshot()\n",
        "\n",
        "    def refresh_page(self):\n",
        "        self.driver.refresh()\n",
        "\n",
        "    def screenshot(self):\n",
        "        self.driver.save_screenshot(\"uploading.png\")"
      ]
    },
    {
      "cell_type": "markdown",
      "metadata": {
        "id": "ONm7oPnPLeF7"
      },
      "source": [
        "# Instances"
      ]
    },
    {
      "cell_type": "code",
      "execution_count": null,
      "metadata": {
        "id": "WmF0LMfpLgkN"
      },
      "outputs": [],
      "source": [
        "d = Downloader()\n",
        "u = Uploader()"
      ]
    },
    {
      "cell_type": "markdown",
      "source": [],
      "metadata": {
        "id": "W5pz6pPKMrHY"
      }
    },
    {
      "cell_type": "code",
      "execution_count": null,
      "metadata": {
        "colab": {
          "base_uri": "https://localhost:8080/"
        },
        "id": "uOZn0WS89iwE",
        "outputId": "a6e4001c-9293-4ad7-d09e-a9a542fea3ac"
      },
      "outputs": [
        {
          "output_type": "stream",
          "name": "stdout",
          "text": [
            "\n",
            "\u001b[1;37m [INFO]: File: xiaomi.eu_multi_XM12_OS1.0.23.12.18.DEV_os1-14.zip exists. Skipping \u001b[0m\n",
            "\n",
            "\u001b[1;32m [INFO]: Downloading Finished \u001b[0m\n"
          ]
        }
      ],
      "source": [
        "d.add_url(\"https://downloads.sourceforge.net/project/xiaomi-eu-multilang-miui-roms/xiaomi.eu/HyperOS-WEEKLY-RELEASES/OS1.0.23.12.18.DEV/xiaomi.eu_multi_XM12_OS1.0.23.12.18.DEV_os1-14.zip?ts=gAAAAABliAI6v6rMCUqEdZKslTycGboExpfkX6HNGPCSgjQBI5JA5oEDIbECjMAA8oz72x1bwbuvxB_JnIG-Jk-5Jm2v6E8zyg%3D%3D&use_mirror=cfhcable&r=https%3A%2F%2Fsourceforge.net%2Fprojects%2Fxiaomi-eu-multilang-miui-roms%2Ffiles%2Fxiaomi.eu%2FHyperOS-WEEKLY-RELEASES%2FOS1.0.23.12.18.DEV%2Fxiaomi.eu_multi_XM12_OS1.0.23.12.18.DEV_os1-14.zip%2Fdownload\")\n",
        "# d.add_downloads_from_file(\"downloads.txt\")\n",
        "d.download()"
      ]
    },
    {
      "cell_type": "code",
      "execution_count": null,
      "metadata": {
        "id": "EggQa4yg9nT-"
      },
      "outputs": [],
      "source": [
        "u.login()"
      ]
    },
    {
      "cell_type": "code",
      "execution_count": null,
      "metadata": {
        "colab": {
          "base_uri": "https://localhost:8080/"
        },
        "id": "TdWK2jC8Lyvy",
        "outputId": "2de16ba1-a923-4d29-8ad7-b87d36619ee6"
      },
      "outputs": [
        {
          "name": "stdout",
          "output_type": "stream",
          "text": [
            "\n",
            "\u001b[1;33m [INFO]: Starting archiving \u001b[0m\n",
            "  adding: content/others/ (stored 0%)\n",
            "  adding: content/others/1d6e24172336fb849ac63305918921f7e667d49a20f752c5081a6997926b686b.mp4 (deflated 0%)\n",
            "  adding: content/others/a7ba6c7e66495c655b5d4b150a8fec2c351ac328c9df554dda549f32e062dc98.zip (stored 0%)\n",
            "  adding: content/others/Shadowheart-Auxtasy-Baldurs-Gate-3-Animated-Hentai-3D-CGI-Video.mp4 (deflated 1%)\n",
            "  adding: content/others/0bff4e1bb7e5ed6bba854006dca7ff98ba5a9e05443b67e096b19ea1b60bd719.mp4 (deflated 0%)\n",
            "  adding: content/others/3ef438d124bcf687371fdbb73232f700bb0fedc641fe73f95d4f579d7e206169.mp4 (deflated 0%)\n",
            "  adding: content/others/327c3915c886f956f83d88e558dea38a6c6d666b891e6c22d0ee399d1b8347b2.mp4 (deflated 0%)\n",
            "  adding: content/others/06103a424d37ab4b72f75eb3c3797d6ef944dd5f1e695ecbdbd0289623a96d02.mp4 (deflated 0%)\n",
            "  adding: content/others/d512dc508cbbde2a9f7872f42cdaa24f9a1933968035c346966ec243cb1ae037.mp4 (deflated 0%)\n",
            "\n",
            "\u001b[1;37m [INFO]: Uploading others.zip \u001b[0m\n",
            "\n",
            "\u001b[1;37m [INFO]: Uploading downloads.txt \u001b[0m\n"
          ]
        }
      ],
      "source": [
        "u.upload()"
      ]
    },
    {
      "cell_type": "code",
      "execution_count": null,
      "metadata": {
        "id": "rYZ4_5aXogZG"
      },
      "outputs": [],
      "source": [
        "u.screenshot()"
      ]
    }
  ],
  "metadata": {
    "colab": {
      "provenance": [],
      "collapsed_sections": [
        "ZyuT86k0PxG3"
      ],
      "include_colab_link": true
    },
    "kernelspec": {
      "display_name": "Python 3",
      "name": "python3"
    },
    "language_info": {
      "name": "python"
    }
  },
  "nbformat": 4,
  "nbformat_minor": 0
}