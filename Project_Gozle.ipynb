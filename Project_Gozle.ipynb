{
  "cells": [
    {
      "cell_type": "markdown",
      "metadata": {
        "id": "view-in-github",
        "colab_type": "text"
      },
      "source": [
        "<a href=\"https://colab.research.google.com/github/koted0/Project-Gozle/blob/main/Project_Gozle.ipynb\" target=\"_parent\"><img src=\"https://colab.research.google.com/assets/colab-badge.svg\" alt=\"Open In Colab\"/></a>"
      ]
    },
    {
      "cell_type": "markdown",
      "source": [
        "# What works\n",
        "## How to use it 📄\n",
        "\n",
        "\n",
        "*   Launch every cell till instances\n",
        "*   In instances cell after ...\n",
        "\n",
        "\n",
        "## Works✅\n",
        "1.   Adding downloads from URL, one by one\n",
        "\n",
        "Example:\n",
        "```\n",
        "d = Downloader()\n",
        "d.add_url(\"Paste here your URL with quotes\")\n",
        "d.add_url(\"Another link to file that you want to download\")\n",
        "...\n",
        "```\n",
        "\n",
        "2.   Adding downloads from file.\n",
        "\n",
        "Example:\n",
        "```\n",
        "d = Downloader()\n",
        "d.add_download_from_url(\"Paste here filename that you uploaded to the root of storage.\")\n",
        "```\n",
        "Example of file that you upload\n",
        "```\n",
        "downloads.txt\n",
        "https://download.visualstudio.microsoft.com/download/pr/10912113/5da66ddebb0ad32ebd4b922fd82e8e25/vcredist_x86.exe\n",
        "https://vscode.download.prss.microsoft.com/dbazure/download/stable/0ee08df0cf4527e40edc9aa28f4b5bd38bbff2b2/VSCodeUserSetup-x64-1.85.1.exe\n",
        "https://youtu.be/lYSmz07i9SM?si=jkbRxm9llkpPWzcI\n",
        "...\n",
        "```\n",
        "\n",
        "3.   Proper Filenaming\n",
        "4.   Checking if file were allready downloaded (download will be skipped if same file allready exists in storage)\n",
        "5.   4.4Gb split file archiving\n",
        "6.   Auto Login to Gozle disk (You must save the **username** and **password** details of your Gozle account in Secrets.)\n",
        "7.   Uploading up to 3 files simultaneously (so, up to 15+Gb files for free accounts)\n",
        "\n",
        "## Bugs 🛠\n",
        "3.   Checking when download if File still exists\n",
        "\n",
        "## Not work or feautured ❌\n",
        "1.   Getting filesize to calculate total size for uploading.\n",
        "4.   User-friendly CLI\n",
        "5.   Telegram Bot\n",
        "6.   [Multithreading](https://colab.research.google.com/drive/1s9y5D_JlCOT43FQ30vwSXGH50b2waDNa#scrollTo=Qa7U4zLT8ZWj&uniqifier=1)"
      ],
      "metadata": {
        "id": "awU997iGX-kt"
      }
    },
    {
      "cell_type": "markdown",
      "metadata": {
        "id": "ZyuT86k0PxG3"
      },
      "source": [
        "# Package Instalations, Imports and Const Links"
      ]
    },
    {
      "cell_type": "code",
      "execution_count": null,
      "metadata": {
        "id": "HTAg4W-NPevt"
      },
      "outputs": [],
      "source": [
        "!pip install selenium yt-dlp libtorrent\n",
        "!apt install chromium-chromedriver -y\n",
        "!rm -R sample_data/"
      ]
    },
    {
      "cell_type": "code",
      "execution_count": null,
      "metadata": {
        "id": "ONRUi4CZhXua"
      },
      "outputs": [],
      "source": [
        "import requests\n",
        "import re\n",
        "import os\n",
        "import json\n",
        "import libtorrent as lt\n",
        "import sys\n",
        "import time\n",
        "\n",
        "from fnmatch import fnmatch\n",
        "from requests.structures import CaseInsensitiveDict\n",
        "# from yt_dlp import YoutubeDL\n",
        "from selenium import webdriver\n",
        "from selenium.webdriver.common.by import By\n",
        "from selenium.webdriver.chrome.service import Service\n",
        "from selenium.webdriver.support.ui import WebDriverWait\n",
        "from selenium.webdriver.support import expected_conditions as EC\n",
        "from google.colab import userdata\n",
        "from queue import Queue\n",
        "from selenium.common import ElementNotInteractableException, NoSuchElementException"
      ]
    },
    {
      "cell_type": "code",
      "execution_count": null,
      "metadata": {
        "id": "rloBtuQEx34a"
      },
      "outputs": [],
      "source": [
        "GOZLE_URL = \"https://disk.gozle.com.tm/login\""
      ]
    },
    {
      "cell_type": "markdown",
      "metadata": {
        "id": "CIWvBzy4jdTc"
      },
      "source": [
        "# Downloader"
      ]
    },
    {
      "cell_type": "code",
      "execution_count": null,
      "metadata": {
        "id": "DZ-5RQVonK08"
      },
      "outputs": [],
      "source": [
        "class Downloader:\n",
        "    def __init__(self):\n",
        "        self.download_list: Queue = Queue()\n",
        "        self.video_quality: dict = { \"hd\": \"res:720\", \"fhd\": \"res:1080\", 'uhd': \"res:2160\" }\n",
        "        self.youtube_pattern = re.compile(r\"(?:https?:\\/\\/)?(?:www\\.)?youtu\\.?be(?:\\.com)?\\/?.*(?:watch|embed)?(?:.*v=|v\\/|\\/)([\\w\\-_]+)\\&?\")\n",
        "\n",
        "\n",
        "    def _get_headers(self, url: str) -> requests.Response:\n",
        "        with requests.head(url) as response:\n",
        "            try:\n",
        "                return response.headers\n",
        "            except Exception:\n",
        "                print(\"\\n\\033[1;33m [WARNING]: No headers in response \\n\\033[0m\")\n",
        "                return None\n",
        "\n",
        "    # def _get_file_size_from_header(self, header: CaseInsensitiveDict) -> str | None:\n",
        "    #     try:\n",
        "    #         size = header.get(\"Content-Length\")\n",
        "    #         self.downloaded_size += size\n",
        "    #         return size\n",
        "    #     except NoSuchElementException:\n",
        "    #         print(\"\\n\\033[1;33m [WARNING]: No size in headers \\n\\033[0m\")\n",
        "\n",
        "    def _get_filename_from_header(self, header: CaseInsensitiveDict) -> str | None:\n",
        "        try:\n",
        "            content_disposition = header.get(\"content-disposition\", \"\")\n",
        "            if \"filename=\" in content_disposition:\n",
        "                filename = content_disposition.split(\"filename=\")[-1].strip('\"')\n",
        "            else:\n",
        "                print(\"\\n\\033[1;33m [WARNING]: No filename in headers \\033[0m\")\n",
        "                return None\n",
        "        except Exception:\n",
        "            print(\"\\n\\033[1;33m [WARNING]: Unexpected error occurred while extracting filename \\n\\033[0m\")\n",
        "            return None\n",
        "\n",
        "    def _get_filename_from_url(self, url: str) -> str:\n",
        "        filename = url.split(\"/\")[-1]\n",
        "        return filename if \"?\" not in filename else filename.split(\"?\")[0]\n",
        "\n",
        "    def _get_proper_name(self, url: str) -> str:\n",
        "        headers = self._get_headers(url)\n",
        "        if headers:\n",
        "            filename = self._get_filename_from_header(headers)\n",
        "            if filename:\n",
        "                return filename\n",
        "            return self._get_filename_from_url(url)\n",
        "\n",
        "    def _is_file_exists(self, filename: str, path: str) -> bool:\n",
        "        file_path = os.path.join(path, filename)\n",
        "        return os.path.exists(file_path)\n",
        "\n",
        "    def _download_other(self, url: str) -> None:\n",
        "        path = \"/content/others/\"\n",
        "        filename = self._get_proper_name(url)\n",
        "        # if self._is_file_exists(path, filename):\n",
        "        #     print(f\"\\n\\033[1;37m [INFO]: File: {filename} exists. Skipping \\033[0m\")\n",
        "        # else:\n",
        "        !curl -o {path}{self._get_proper_name(url)} -L --create-dirs {url}\n",
        "\n",
        "    def _download_youtube(self, url: str, quality_key: str) -> None:\n",
        "        path = \"/content/videos/\"\n",
        "        quality = self.video_quality[quality_key] if quality_key else \"res:720\"\n",
        "        !yt-dlp -S {quality} {url} -P {path}\n",
        "\n",
        "    def add_url(self, url: str, quality_key: str = None) -> None:\n",
        "        \"\"\"Add a URL to the download list.\"\"\"\n",
        "        self.download_list.put((url, quality_key))\n",
        "\n",
        "    def add_downloads_from_file(self, path2file: str) -> None:\n",
        "        with open(path2file, 'r') as file:\n",
        "            [self.add_url(url.strip()) for url in file]\n",
        "\n",
        "    def download(self) -> None:\n",
        "        \"\"\"Download all URLs in the download list.\"\"\"\n",
        "        while not self.download_list.empty():\n",
        "            url, quality_key = self.download_list.get()\n",
        "            if re.match(self.youtube_pattern, url):\n",
        "                self._download_youtube(url, quality_key)\n",
        "            else:\n",
        "                self._download_other(url)\n",
        "        else: print(\"\\n\\033[1;32m [INFO]: Downloading Finished \\033[0m\")"
      ]
    },
    {
      "cell_type": "markdown",
      "metadata": {
        "id": "gAGPcZQJHKch"
      },
      "source": [
        "# Gozle Disk Uploader (Selenium)"
      ]
    },
    {
      "cell_type": "code",
      "execution_count": null,
      "metadata": {
        "id": "4nQg1pF1-1W4"
      },
      "outputs": [],
      "source": [
        "class Uploader:\n",
        "    def __init__(self):\n",
        "        self._gozle_username = userdata.get(\"username\")\n",
        "        self._gozle_password = userdata.get(\"password\")\n",
        "        self.archive_paths: dict = {}\n",
        "        self.directories = [\"/content/others/\", \"/content/videos/\"]\n",
        "\n",
        "    def _set_webdriver_options(self) -> None:\n",
        "        chrome_options = webdriver.ChromeOptions()\n",
        "        chrome_options.add_argument('--headless')\n",
        "        chrome_options.add_argument('--no-sandbox')\n",
        "        chrome_options.add_argument('--disable-dev-shm-usage')\n",
        "        self.driver = webdriver.Chrome(options=chrome_options)\n",
        "        self.driver.maximize_window()\n",
        "        self.wait = WebDriverWait(self.driver, 10)\n",
        "\n",
        "    def login(self) -> None:\n",
        "        self._set_webdriver_options()\n",
        "        self.driver.get(GOZLE_URL)\n",
        "        self.wait.until(EC.presence_of_element_located((By.NAME, 'email'))).send_keys(self._gozle_username)\n",
        "        self.driver.find_element(By.NAME,value='password').send_keys(self._gozle_password)\n",
        "        self.driver.find_element(By.CSS_SELECTOR, 'button[type = \\'submit\\']').click()\n",
        "\n",
        "    # bugged. not showing right count FOR TEST\n",
        "    def check_uploads(self) -> None:\n",
        "        uploading_menu = self.wait.until(EC.presence_of_element_located((By.XPATH, '//*[@id=\"root\"]/div[2]/div[5]/div[2]/div')))\n",
        "        uploading_items = uploading_menu.find_elements(By.XPATH, \"./div\")\n",
        "        print(f'\\n Uploading: {len(uploading_items)} Items, with status:')\n",
        "        for div_N in uploading_items:\n",
        "            item_name = div_N.find_element(By.XPATH, './div[2]/div[1]/div').text\n",
        "            item_status = div_N.find_element(By.XPATH, './div[2]/div[2]').text\n",
        "            print(f\"\\n\\033[1;37m [INFO]: Item: \\033[1;33m{item_name}\\033[1;37m, Status: \\033[1;33m{item_status} \\033[0m\")\n",
        "        return [item.text for item in uploading_items]\n",
        "\n",
        "    def _archive_data(self, directory: str) -> None:\n",
        "        dir_name = directory.split('/')[2]\n",
        "        if not os.path.exists(f\"{dir_name}.zip\"):\n",
        "            print(f\"\\n\\033[1;33m [INFO]: Starting archiving \\033[0m\")\n",
        "            !zip -r -j -m -s 5000m {dir_name} {directory}\n",
        "\n",
        "    def _update_uploads_list(self) -> None:\n",
        "        # uploading_items = self.check_uploads()\n",
        "        cwd = os.getcwd()\n",
        "        files = [file for file in os.listdir(cwd) if not file.startswith('.') \\\n",
        "            and (fnmatch(file, '*.zip') or fnmatch(file, '*.z*'))]\n",
        "        for file in files:\n",
        "            self.archive_paths[file] = os.path.join(cwd, file)\n",
        "\n",
        "    def upload(self) -> None:\n",
        "        [self._archive_data(directory) for directory in self.directories\n",
        "         if os.path.exists(directory) and len(os.listdir(directory)) != 0]\n",
        "        self._update_uploads_list()\n",
        "\n",
        "        for filename, path in self.archive_paths.items():\n",
        "            self.wait.until(EC.presence_of_element_located((By.XPATH, \"//div//div[2]//div//div//div//button[starts-with(@id, ':r')]\"))).click()\n",
        "            self.driver.find_element(By.XPATH, \"//div[@data-value='uploadFiles']\").click()\n",
        "            self.driver.find_element(By.CSS_SELECTOR, value='input[type = \\'file\\']').send_keys(path)\n",
        "            print(f\"\\n\\033[1;37m [INFO]: Uploading {filename} \\033[0m\")\n",
        "        time.sleep(5)\n",
        "        self.screenshot()\n",
        "        self.check_uploads()\n",
        "\n",
        "    def refresh_page(self) -> None:\n",
        "        self.driver.refresh()\n",
        "\n",
        "    def screenshot(self) -> None:\n",
        "        self.driver.save_screenshot(\"uploading.png\")"
      ]
    },
    {
      "cell_type": "markdown",
      "source": [
        "# Torrent Client"
      ],
      "metadata": {
        "id": "IAV7CnGm8r6X"
      }
    },
    {
      "cell_type": "code",
      "source": [
        "def download_torrent(filename):\n",
        "    ses = lt.session({\"listen_interfaces\": \"0.0.0.0:6881\",\n",
        "                      \"upload_rate_limit\": 1})\n",
        "\n",
        "    # TODO: Add proxy cuz Colab is blocking torrent.\n",
        "    info = lt.torrent_info(filename)\n",
        "    h = ses.add_torrent({\"ti\": info, \"save_path\": \"/content/torrents\"})\n",
        "    s = h.status()\n",
        "    print(\"starting\", s.name)\n",
        "\n",
        "    while s.state != lt.torrent_status.seeding:\n",
        "        s = h.status()\n",
        "        print('\\r%.2f%% complete (down: %.1f kB/s up: %.1f kB/s peers: %d) %s' % (\n",
        "            s.progress * 100, s.download_rate / 1024, s.upload_rate / 1024,\n",
        "            s.num_peers, s.state), end=' ')\n",
        "\n",
        "        alerts = ses.pop_alerts()\n",
        "        for a in alerts:\n",
        "            if a.category() & lt.alert.category_t.error_notification:\n",
        "                print(a)\n",
        "\n",
        "        sys.stdout.flush()\n",
        "        time.sleep(1)\n",
        "    print(h.status().name, \"complete\")"
      ],
      "metadata": {
        "id": "x6ygKswW8yhI"
      },
      "execution_count": null,
      "outputs": []
    },
    {
      "cell_type": "markdown",
      "metadata": {
        "id": "ONm7oPnPLeF7"
      },
      "source": [
        "# Instances"
      ]
    },
    {
      "cell_type": "code",
      "execution_count": null,
      "metadata": {
        "id": "WmF0LMfpLgkN"
      },
      "outputs": [],
      "source": [
        "d = Downloader()\n",
        "u = Uploader()"
      ]
    },
    {
      "cell_type": "markdown",
      "source": [
        "Use ▶️ button  in cell above ⬆️ to run cell and add downloads in cell below ⬇️\n",
        "\n",
        "```\n",
        "d.add_url(\"URL\")\n",
        "```\n",
        "```\n",
        "d.add_downloads_from_file(\"filename\")\n",
        "```\n",
        "```\n",
        "d.download()\n",
        "```\n",
        "\n",
        "\n",
        "\n",
        "\n"
      ],
      "metadata": {
        "id": "yn6FZlAYwwjX"
      }
    },
    {
      "cell_type": "code",
      "source": [
        "d.add_url(\"https://downloads.sourceforge.net/project/xiaomi-eu-multilang-miui-roms/xiaomi.eu/HyperOS-WEEKLY-RELEASES/OS1.0.24.1.15.DEV/xiaomi.eu_multi_XM12_OS1.0.24.1.15.DEV_os1-14.zip?ts=gAAAAABlrCYUmcAnzcYQultzUHC2gAKKVdm5qZTZLyz8OZdeAa7cLGA5vGpU9F539PMT2ACm1Oi_S3bx3QC-Pj6N70f4m2Myjw%3D%3D&use_mirror=cfhcable&r=https%3A%2F%2Fsourceforge.net%2Fprojects%2Fxiaomi-eu-multilang-miui-roms%2Ffiles%2Fxiaomi.eu%2FHyperOS-WEEKLY-RELEASES%2FOS1.0.24.1.15.DEV%2Fxiaomi.eu_multi_XM12_OS1.0.24.1.15.DEV_os1-14.zip%2Fdownload\")"
      ],
      "metadata": {
        "id": "ZIS7K2Q5KVFm"
      },
      "execution_count": null,
      "outputs": []
    },
    {
      "cell_type": "code",
      "source": [
        "d.add_downloads_from_file(\"downloads.txt\")"
      ],
      "metadata": {
        "id": "JET-biU6yT-_"
      },
      "execution_count": null,
      "outputs": []
    },
    {
      "cell_type": "code",
      "source": [
        "d.download()"
      ],
      "metadata": {
        "id": "AiDRs2h-tOjF"
      },
      "execution_count": null,
      "outputs": []
    },
    {
      "cell_type": "code",
      "execution_count": null,
      "metadata": {
        "id": "EggQa4yg9nT-"
      },
      "outputs": [],
      "source": [
        "u.login()"
      ]
    },
    {
      "cell_type": "code",
      "execution_count": null,
      "metadata": {
        "id": "TdWK2jC8Lyvy"
      },
      "outputs": [],
      "source": [
        "u.upload()"
      ]
    },
    {
      "cell_type": "code",
      "source": [
        "u.screenshot()"
      ],
      "metadata": {
        "id": "fYa4K6nPOeEY"
      },
      "execution_count": null,
      "outputs": []
    }
  ],
  "metadata": {
    "colab": {
      "provenance": [],
      "private_outputs": true,
      "collapsed_sections": [
        "ZyuT86k0PxG3",
        "IAV7CnGm8r6X"
      ],
      "include_colab_link": true
    },
    "kernelspec": {
      "display_name": "Python 3",
      "name": "python3"
    },
    "language_info": {
      "name": "python"
    }
  },
  "nbformat": 4,
  "nbformat_minor": 0
}