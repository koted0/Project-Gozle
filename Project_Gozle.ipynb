{
  "cells": [
    {
      "cell_type": "markdown",
      "metadata": {
        "id": "view-in-github",
        "colab_type": "text"
      },
      "source": [
        "<a href=\"https://colab.research.google.com/github/koted0/Project-Gozle/blob/main/Project_Gozle.ipynb\" target=\"_parent\"><img src=\"https://colab.research.google.com/assets/colab-badge.svg\" alt=\"Open In Colab\"/></a>"
      ]
    },
    {
      "cell_type": "markdown",
      "source": [
        "# What works\n",
        "## How to use it 📄\n",
        "\n",
        "\n",
        "*   Launch every cell till instances\n",
        "*   In instances cell after ...\n",
        "\n",
        "\n",
        "## Works✅\n",
        "1.   Adding downloads from URL, one by one\n",
        "\n",
        "Example:\n",
        "```\n",
        "d = Downloader()\n",
        "d.add_url(\"Paste here your URL with quotes\")\n",
        "d.add_url(\"Another link to file that you want to download\")\n",
        "...\n",
        "```\n",
        "\n",
        "2.   Adding downloads from file.\n",
        "\n",
        "Example:\n",
        "```\n",
        "d = Downloader()\n",
        "d.add_download_from_url(\"Paste here filename that you uploaded to the root of storage.\")\n",
        "```\n",
        "Example of file that you upload\n",
        "```\n",
        "downloads.txt\n",
        "https://download.visualstudio.microsoft.com/download/pr/10912113/5da66ddebb0ad32ebd4b922fd82e8e25/vcredist_x86.exe\n",
        "https://vscode.download.prss.microsoft.com/dbazure/download/stable/0ee08df0cf4527e40edc9aa28f4b5bd38bbff2b2/VSCodeUserSetup-x64-1.85.1.exe\n",
        "https://youtu.be/lYSmz07i9SM?si=jkbRxm9llkpPWzcI\n",
        "...\n",
        "```\n",
        "2.   Torrent support\n",
        "3.   Proper Filenaming\n",
        "4.   Checking if file were allready downloaded (download will be skipped if same file allready exists in storage)\n",
        "5.   4.9Gb split file archiving\n",
        "6.   Auto Login to Gozle disk (You must save the **username** and **password** details of your Gozle account in Secrets.)\n",
        "7.   Multipaging upload for Gozle. In theory can upload up to CAP of DISK.\n",
        "\n",
        "## Bugs 🛠\n",
        "\n",
        "## Not work or feautured ❌\n",
        "*   Various GUI implementations for non-intuitive parts\n",
        "\n",
        "*   Getting filesize to calculate total size for uploading.\n",
        "*   User-friendly CLI\n",
        "*   [Multithreading](https://colab.research.google.com/drive/1s9y5D_JlCOT43FQ30vwSXGH50b2waDNa#scrollTo=Qa7U4zLT8ZWj&uniqifier=1)"
      ],
      "metadata": {
        "id": "awU997iGX-kt"
      }
    },
    {
      "cell_type": "code",
      "execution_count": null,
      "metadata": {
        "id": "HTAg4W-NPevt"
      },
      "outputs": [],
      "source": [
        "# @title Install packages\n",
        "!pip install selenium yt-dlp libtorrent\n",
        "!apt install chromium-chromedriver -y\n",
        "!rm -R sample_data/\n",
        "#Media content delivery solution"
      ]
    },
    {
      "cell_type": "code",
      "execution_count": null,
      "metadata": {
        "id": "ONRUi4CZhXua"
      },
      "outputs": [],
      "source": [
        "# @title Python Imports\n",
        "import requests\n",
        "import re\n",
        "import os\n",
        "import libtorrent as lt\n",
        "import sys\n",
        "import time\n",
        "import logging\n",
        "import datetime\n",
        "\n",
        "from typing import Optional, Tuple, Dict, Pattern, List, Union\n",
        "from fnmatch import fnmatch\n",
        "from requests.structures import CaseInsensitiveDict\n",
        "# from yt_dlp import YoutubeDL\n",
        "from selenium import webdriver\n",
        "from selenium.webdriver.common.by import By\n",
        "from selenium.webdriver.chrome.webdriver import WebDriver\n",
        "from selenium.webdriver.support.ui import WebDriverWait\n",
        "from selenium.webdriver.support import expected_conditions as EC\n",
        "from google.colab import userdata\n",
        "from queue import Queue\n",
        "from selenium.common import NoSuchElementException, TimeoutException"
      ]
    },
    {
      "cell_type": "code",
      "execution_count": null,
      "metadata": {
        "id": "DZ-5RQVonK08"
      },
      "outputs": [],
      "source": [
        "# @title Downloader {run:\"auto\"}\n",
        "FORMAT = \"%(asctime)s :: %(levelname)-6s :: %(message)s\"\n",
        "logging.basicConfig(level=logging.INFO, format=FORMAT, force=True)\n",
        "\n",
        "class Downloader:\n",
        "    def __init__(self):\n",
        "        self.download_list: Queue[Tuple[str, Optional[str]]] = Queue()\n",
        "        self.video_quality: Dict[str, str] = { \"hd\": \"res:720\", \"fhd\": \"res:1080\", 'uhd': \"res:2160\" }\n",
        "        self.youtube_pattern: Pattern[str] = re.compile(r\"(?:https?:\\/\\/)?(?:www\\.)?youtu\\.?be(?:\\.com)?\\/?.*(?:watch|embed|playlist)?(?:.*v=|v\\/|\\/|list=)([\\w\\-_]+)\\&?\")\n",
        "\n",
        "\n",
        "    def _get_headers(self, url: str) -> Optional[CaseInsensitiveDict]:\n",
        "        with requests.head(url) as response:\n",
        "            try:\n",
        "                return response.headers\n",
        "            except Exception:\n",
        "                logging.warning(\"No headers in response\")\n",
        "                return None\n",
        "\n",
        "    def _get_filename_from_header(self, header: CaseInsensitiveDict) -> Optional[str]:\n",
        "        try:\n",
        "            content_disposition = header.get(\"content-disposition\", \"\")\n",
        "            if \"filename=\" in content_disposition:\n",
        "                return content_disposition.split(\"filename=\")[-1].strip('\"')\n",
        "            else:\n",
        "                logging.warning(\"No filename in headers\")\n",
        "                return None\n",
        "        except Exception:\n",
        "            logging.warning(\"Unexpected error occurred while extracting filename\")\n",
        "            return None\n",
        "\n",
        "    def _get_filename_from_url(self, url: str) -> str:\n",
        "        filename = url.split(\"/\")[-1]\n",
        "        return filename if \"?\" not in filename else filename.split(\"?\")[0]\n",
        "\n",
        "    def _get_proper_name(self, url: str) -> str:\n",
        "        headers = self._get_headers(url)\n",
        "        if headers:\n",
        "            filename = self._get_filename_from_header(headers)\n",
        "            if filename:\n",
        "                return filename\n",
        "            return self._get_filename_from_url(url)\n",
        "\n",
        "    def _is_file_exists(self, filename: str, path: str) -> bool:\n",
        "        file_path = os.path.join(path, filename)\n",
        "        return os.path.exists(file_path)\n",
        "\n",
        "    def _download_other(self, url: str) -> None:\n",
        "        path = \"/content/others/\"\n",
        "        filename = self._get_proper_name(url)\n",
        "        if self._is_file_exists(filename, path):\n",
        "            logging.info(f\"File: {filename} exists. Skipping\")\n",
        "        else:\n",
        "            !curl -o \"{path}\"\"{filename}\" -L --create-dirs \"{url}\"\n",
        "\n",
        "    def _download_youtube(self, url: str, quality_key: Optional[str]) -> None:\n",
        "        path = \"/content/videos/\"\n",
        "        quality = self.video_quality[quality_key] if quality_key else \"res:720\"\n",
        "        !yt-dlp -S \"{quality}\" \"{url}\" -P \"{path}\"\n",
        "\n",
        "    def add_url(self, url: str, quality_key: Optional[str] = None) -> None:\n",
        "        \"\"\"Add a URL to the download list.\"\"\"\n",
        "        self.download_list.put((url, quality_key))\n",
        "\n",
        "    def add_downloads_from_file(self, path2file: str) -> None:\n",
        "        with open(path2file, 'r') as file:\n",
        "            [self.add_url(url.strip()) for url in file]\n",
        "\n",
        "    def download(self) -> None:\n",
        "        \"\"\"Download all URLs in the download list.\"\"\"\n",
        "        while not self.download_list.empty():\n",
        "            url, quality_key = self.download_list.get()\n",
        "            if re.match(self.youtube_pattern, url):\n",
        "                self._download_youtube(url, quality_key)\n",
        "            else:\n",
        "                self._download_other(url)\n",
        "        else:\n",
        "            logging.info(\"Downloading Finished\")"
      ]
    },
    {
      "cell_type": "code",
      "execution_count": null,
      "metadata": {
        "id": "4nQg1pF1-1W4"
      },
      "outputs": [],
      "source": [
        "# @title Uploader (Gozle Disk [Selenium])\n",
        "class Uploader:\n",
        "    def __init__(self):\n",
        "        self.GOZLE_URL: str = \"https://disk.gozle.com.tm/login\"\n",
        "        self.GOZLE_DISK: str = \"https://disk.gozle.com.tm/drive\"\n",
        "        self._gozle_username: Optional[str] = userdata.get(\"username\")\n",
        "        self._gozle_password: Optional[str] = userdata.get(\"password\")\n",
        "        self.archive_paths: Dict[str, str] = {}\n",
        "        self.directories: List[str] = [\"others/\", \"videos/\", \"torrents/\"]\n",
        "\n",
        "    def _set_webdriver_options(self) -> None:\n",
        "        chrome_options = webdriver.ChromeOptions()\n",
        "        chrome_options.add_argument('--headless')\n",
        "        chrome_options.add_argument('--no-sandbox')\n",
        "        chrome_options.add_argument('--disable-dev-shm-usage')\n",
        "        self.driver: WebDriver = webdriver.Chrome(options=chrome_options)\n",
        "        self.driver.maximize_window()\n",
        "        self.wait: WebDriverWait = WebDriverWait(self.driver, 10)\n",
        "\n",
        "    def login(self) -> None:\n",
        "        self._set_webdriver_options()\n",
        "        self.driver.get(self.GOZLE_URL)\n",
        "        self.wait.until(EC.presence_of_element_located((By.NAME, 'email'))).send_keys(self._gozle_username)\n",
        "        self.driver.find_element(By.NAME,value='password').send_keys(self._gozle_password)\n",
        "        self.driver.find_element(By.CSS_SELECTOR, 'button[type = \\'submit\\']').click()\n",
        "        logging.info(\"Login Succesfull\")\n",
        "\n",
        "\n",
        "    # No active uploads\n",
        "    # Uploaded\n",
        "    def check_uploads(self) -> Optional[List[Tuple[str, str]]]:\n",
        "        try:\n",
        "            uploading_menu = self.wait.until(EC.presence_of_element_located((By.XPATH, '//*[@id=\"root\"]/div[2]/div[5]/div[2]/div')))\n",
        "        except (NoSuchElementException, TimeoutException):\n",
        "            return None\n",
        "        uploading_items = uploading_menu.find_elements(By.XPATH, \"./div\")\n",
        "        items = []\n",
        "        for div_N in uploading_items:\n",
        "            item_name = div_N.find_element(By.XPATH, './div[2]/div[1]/div').text\n",
        "            item_status = div_N.find_element(By.XPATH, './div[2]/div[2]').text\n",
        "            item_percentage = div_N.find_element(By.XPATH, './div[3]/div/div').get_attribute(\"aria-valuetext\")\n",
        "            items.append((item_name, item_status, item_percentage))\n",
        "        return items\n",
        "\n",
        "    def check_uploads_all_tabs(self):\n",
        "        all_items = []\n",
        "        default_window_handle = self.driver.current_window_handle\n",
        "        for window_handle in self.driver.window_handles:\n",
        "            self.driver.switch_to.window(window_handle)\n",
        "            items = self.check_uploads()\n",
        "            if items is not None:\n",
        "                all_items.extend(items)\n",
        "        self.driver.switch_to.window(default_window_handle)\n",
        "        return all_items\n",
        "\n",
        "    def _print_uploading_status(self) -> None:\n",
        "        try:\n",
        "            items = self.check_uploads_all_tabs()\n",
        "            [logging.info(f\"Item: {name}, Status: {status}, {percent}\") for name, status, percent in items]\n",
        "        except TypeError:\n",
        "            logging.warning(\"Nothing Uploading\")\n",
        "\n",
        "    def _has_visible_files(self, directory: str) -> bool:\n",
        "        return any(True for _ in os.scandir(directory))\n",
        "\n",
        "    def _archive_data(self, directory: str) -> None:\n",
        "        dir_name = directory.split('/')[0]\n",
        "        timestamp = datetime.datetime.now().strftime(\"%d-%m_%H:%M\")\n",
        "        archive_name = f\"{dir_name}_{timestamp}.zip\"\n",
        "        logging.info(\"Starting archiving\")\n",
        "        !zip -r -m -s 5000m {archive_name} {directory}\n",
        "\n",
        "    def _update_uploads_list(self) -> None:\n",
        "        uploading_items = self.check_uploads()\n",
        "        cwd = os.getcwd()\n",
        "        files = [file for file in os.listdir(cwd) if not file.startswith('.') \\\n",
        "            and (fnmatch(file, '*.z*'))]\n",
        "        for file in files:\n",
        "            if not uploading_items or file not in uploading_items:\n",
        "                self.archive_paths[file] = os.path.join(cwd, file)\n",
        "            else:\n",
        "                logging.info(f\"{file} is allready uploading, skipping.\")\n",
        "\n",
        "    def open_new_tab(self) -> None:\n",
        "        self.driver.switch_to.new_window(\"tab\")\n",
        "        self.driver.get(self.GOZLE_DISK)\n",
        "\n",
        "    def upload(self) -> None:\n",
        "        [self._archive_data(directory) for directory in self.directories\n",
        "         if os.path.exists(directory) and self._has_visible_files(directory)]\n",
        "        self._update_uploads_list()\n",
        "        if not self.archive_paths:\n",
        "            return\n",
        "\n",
        "        files_per_tab = 3\n",
        "        for i, filename in enumerate(list(self.archive_paths.keys())):\n",
        "            if i > 0 and i % files_per_tab == 0:\n",
        "                self.open_new_tab()\n",
        "            path = self.archive_paths.pop(filename)\n",
        "            self.wait.until(EC.presence_of_element_located((By.XPATH, \"//div//div[2]//div//div//div//button[starts-with(@id, ':r')]\"))).click()\n",
        "            self.driver.find_element(By.XPATH, \"//div[@data-value='uploadFiles']\").click()\n",
        "            self.driver.find_element(By.CSS_SELECTOR, value='input[type = \\'file\\']').send_keys(path)\n",
        "            logging.info(f\"Uploading {filename}\")\n",
        "        time.sleep(5)\n",
        "        self._print_uploading_status()\n",
        "\n",
        "    def refresh_page(self) -> None:\n",
        "        self.driver.refresh()\n",
        "\n",
        "    def screenshot(self, filename=\"uploading\") -> None:\n",
        "        self.driver.save_screenshot(f\"{filename}.png\")"
      ]
    },
    {
      "cell_type": "code",
      "source": [
        "# @title Torrent Client\n",
        "def download_torrent(magnet_or_torrent: Union[str, lt.torrent_info]) -> None:\n",
        "    ses = lt.session({\"listen_interfaces\": \"0.0.0.0:6881, [::]:6881\"})\n",
        "\n",
        "    state_str = [\n",
        "        \"queued\", \"checking\", \"downloading metadata\", \"downloading\",\n",
        "        \"finished\", \"seeding\", \"allocating\", \"checking fastresume\"]\n",
        "\n",
        "    if isinstance(magnet_or_torrent, str) and magnet_or_torrent.startswith('magnet:'):\n",
        "        h = lt.add_magnet_uri(ses, magnet_or_torrent, {\"save_path\": \"/content/torrents\"})\n",
        "        while not h.has_metadata():\n",
        "            time.sleep(1)\n",
        "        info = h.get_torrent_info()\n",
        "    else:\n",
        "        info = magnet_or_torrent if isinstance(magnet_or_torrent, lt.torrent_info) else lt.torrent_info(magnet_or_torrent)\n",
        "        h = ses.add_torrent({\"ti\": info, \"save_path\": \"/content/torrents\"})\n",
        "\n",
        "    s = h.status()\n",
        "    total_size = info.piece_length() * info.num_pieces()\n",
        "    logging.info(f\"starting {s.name} with total size: {total_size / 1073741824:.1f} GB\")\n",
        "\n",
        "    while s.state != lt.torrent_status.seeding:\n",
        "        s = h.status()\n",
        "        eta = \"N/A\"\n",
        "        if s.download_rate > 0:\n",
        "            eta_seconds = int(total_size - s.total_done) / s.download_rate\n",
        "            eta = str(datetime.timedelta(seconds=eta_seconds))\n",
        "\n",
        "        print('\\r%.2f%% complete (down: %.1f kB/s up: %.1f kB/s peers: %d ETA: %s) %s' % (\n",
        "            s.progress * 100, s.download_rate / 1024, s.upload_rate / 1024,\n",
        "            s.num_peers, eta, state_str[s.state]), end=' ')\n",
        "\n",
        "        sys.stdout.flush()\n",
        "        time.sleep(1)\n",
        "    logging.info(f\"\\n{h.status().name} completed\")"
      ],
      "metadata": {
        "id": "x6ygKswW8yhI"
      },
      "execution_count": null,
      "outputs": []
    },
    {
      "cell_type": "markdown",
      "metadata": {
        "id": "ONm7oPnPLeF7"
      },
      "source": [
        "# Instances"
      ]
    },
    {
      "cell_type": "code",
      "execution_count": null,
      "metadata": {
        "id": "WmF0LMfpLgkN"
      },
      "outputs": [],
      "source": [
        "d = Downloader()\n",
        "u = Uploader()"
      ]
    },
    {
      "cell_type": "markdown",
      "source": [
        "Use ▶️ button  in cell above ⬆️ to run cell and add downloads in cell below ⬇️\n",
        "\n",
        "```\n",
        "d.add_url(\"URL\")\n",
        "```\n",
        "```\n",
        "d.add_downloads_from_file(\"filename\")\n",
        "```\n",
        "```\n",
        "d.download()\n",
        "```"
      ],
      "metadata": {
        "id": "yn6FZlAYwwjX"
      }
    },
    {
      "cell_type": "code",
      "source": [
        "d.add_downloads_from_file(\"downloads.txt\")"
      ],
      "metadata": {
        "id": "3u7VAZTy-Azq"
      },
      "execution_count": null,
      "outputs": []
    },
    {
      "cell_type": "code",
      "source": [
        "d.download()"
      ],
      "metadata": {
        "id": "AiDRs2h-tOjF"
      },
      "execution_count": null,
      "outputs": []
    },
    {
      "cell_type": "code",
      "execution_count": null,
      "metadata": {
        "id": "EggQa4yg9nT-"
      },
      "outputs": [],
      "source": [
        "u.login()"
      ]
    },
    {
      "cell_type": "code",
      "execution_count": null,
      "metadata": {
        "id": "TdWK2jC8Lyvy"
      },
      "outputs": [],
      "source": [
        "u.upload()"
      ]
    },
    {
      "cell_type": "code",
      "source": [
        "u.screenshot()"
      ],
      "metadata": {
        "id": "2BStkIm9ZxKB"
      },
      "execution_count": null,
      "outputs": []
    },
    {
      "cell_type": "code",
      "source": [
        "u._print_uploading_status()"
      ],
      "metadata": {
        "id": "fYa4K6nPOeEY"
      },
      "execution_count": null,
      "outputs": []
    }
  ],
  "metadata": {
    "colab": {
      "provenance": [],
      "private_outputs": true,
      "include_colab_link": true
    },
    "kernelspec": {
      "display_name": "Python 3",
      "name": "python3"
    },
    "language_info": {
      "name": "python"
    }
  },
  "nbformat": 4,
  "nbformat_minor": 0
}