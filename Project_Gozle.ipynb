{
  "cells": [
    {
      "cell_type": "markdown",
      "metadata": {
        "id": "view-in-github",
        "colab_type": "text"
      },
      "source": [
        "<a href=\"https://colab.research.google.com/github/koted0/Project-Gozle/blob/main/Project_Gozle.ipynb\" target=\"_parent\"><img src=\"https://colab.research.google.com/assets/colab-badge.svg\" alt=\"Open In Colab\"/></a>"
      ]
    },
    {
      "cell_type": "code",
      "execution_count": null,
      "metadata": {
        "id": "HTAg4W-NPevt",
        "cellView": "form"
      },
      "outputs": [],
      "source": [
        "# @title Install packages\n",
        "!pip install selenium yt-dlp libtorrent\n",
        "!apt install chromium-chromedriver -y\n",
        "!rm -R sample_data/\n",
        "#Media content delivery solution"
      ]
    },
    {
      "cell_type": "code",
      "execution_count": null,
      "metadata": {
        "id": "ONRUi4CZhXua",
        "cellView": "form"
      },
      "outputs": [],
      "source": [
        "# @title Python Imports\n",
        "import requests\n",
        "import re\n",
        "import os\n",
        "import libtorrent as lt\n",
        "import sys\n",
        "import time\n",
        "import logging\n",
        "import datetime\n",
        "\n",
        "from IPython.display import display\n",
        "from ipywidgets import FloatProgress, Label, HBox\n",
        "from typing import Optional, Tuple, Dict, Pattern, List, Union\n",
        "from fnmatch import fnmatch\n",
        "from requests.structures import CaseInsensitiveDict\n",
        "from selenium import webdriver\n",
        "from selenium.webdriver.common.by import By\n",
        "from selenium.webdriver.chrome.webdriver import WebDriver\n",
        "from selenium.webdriver.support.ui import WebDriverWait\n",
        "from selenium.webdriver.support import expected_conditions as EC\n",
        "from google.colab import userdata\n",
        "from queue import Queue\n",
        "from selenium.common import NoSuchElementException, TimeoutException"
      ]
    },
    {
      "cell_type": "code",
      "execution_count": null,
      "metadata": {
        "id": "DZ-5RQVonK08",
        "cellView": "form"
      },
      "outputs": [],
      "source": [
        "# @title Downloader {run:\"auto\"}\n",
        "FORMAT = \"%(asctime)s :: %(levelname)-6s :: %(message)s\"\n",
        "logging.basicConfig(level=logging.INFO, format=FORMAT, force=True)\n",
        "\n",
        "class Downloader:\n",
        "    def __init__(self):\n",
        "        self.download_list: Queue[Tuple[str, Optional[str]]] = Queue()\n",
        "        self.video_quality: Dict[str, str] = { \"hd\": \"res:720\", \"fhd\": \"res:1080\", 'uhd': \"res:2160\" }\n",
        "        self.youtube_pattern: Pattern[str] = re.compile(r\"(?:https?:\\/\\/)?(?:www\\.)?youtu\\.?be(?:\\.com)?\\/?.*(?:watch|embed|playlist)?(?:.*v=|v\\/|\\/|list=)([\\w\\-_]+)\\&?\")\n",
        "\n",
        "\n",
        "    def _get_headers(self, url: str) -> Optional[CaseInsensitiveDict]:\n",
        "        with requests.head(url) as response:\n",
        "            try:\n",
        "                return response.headers\n",
        "            except Exception:\n",
        "                logging.warning(\"No headers in response\")\n",
        "                return None\n",
        "\n",
        "    def _get_filename_from_header(self, header: CaseInsensitiveDict) -> Optional[str]:\n",
        "        try:\n",
        "            content_disposition = header.get(\"content-disposition\", \"\")\n",
        "            if \"filename=\" in content_disposition:\n",
        "                return content_disposition.split(\"filename=\")[-1].strip('\"')\n",
        "            else:\n",
        "                logging.warning(\"No filename in headers\")\n",
        "                return None\n",
        "        except Exception:\n",
        "            logging.warning(\"Unexpected error occurred while extracting filename\")\n",
        "            return None\n",
        "\n",
        "    def _get_filename_from_url(self, url: str) -> str:\n",
        "        filename = url.split(\"/\")[-1]\n",
        "        return filename if \"?\" not in filename else filename.split(\"?\")[0]\n",
        "\n",
        "    def _get_proper_name(self, url: str) -> str:\n",
        "        headers = self._get_headers(url)\n",
        "        if headers:\n",
        "            filename = self._get_filename_from_header(headers)\n",
        "            if filename:\n",
        "                return filename\n",
        "            return self._get_filename_from_url(url)\n",
        "\n",
        "    def _is_file_exists(self, filename: str, path: str) -> bool:\n",
        "        file_path = os.path.join(path, filename)\n",
        "        return os.path.exists(file_path)\n",
        "\n",
        "    def _download_other(self, url: str) -> None:\n",
        "        path = \"/content/others/\"\n",
        "        filename = self._get_proper_name(url)\n",
        "        if self._is_file_exists(filename, path):\n",
        "            logging.info(f\"File: {filename} exists. Skipping\")\n",
        "        else:\n",
        "            !curl -o \"{path}\"\"{filename}\" -L --create-dirs \"{url}\"\n",
        "\n",
        "    def _download_youtube(self, url: str, quality_key: Optional[str]) -> None:\n",
        "        path = \"/content/videos/\"\n",
        "        quality = self.video_quality[quality_key] if quality_key else \"res:1080\"\n",
        "        !yt-dlp -S \"{quality}\" \"{url}\" -P \"{path}\"\n",
        "\n",
        "    def add_url(self, url: str, quality_key: Optional[str] = None) -> None:\n",
        "        \"\"\"Add a URL to the download list.\"\"\"\n",
        "        self.download_list.put((url, quality_key))\n",
        "\n",
        "    def add_downloads_from_file(self, path2file: str) -> None:\n",
        "        with open(path2file, 'r') as file:\n",
        "            [self.add_url(url.strip()) for url in file]\n",
        "\n",
        "    def download(self) -> None:\n",
        "        \"\"\"Download all URLs in the download list.\"\"\"\n",
        "        while not self.download_list.empty():\n",
        "            url, quality_key = self.download_list.get()\n",
        "            if re.match(self.youtube_pattern, url):\n",
        "                self._download_youtube(url, quality_key)\n",
        "            else:\n",
        "                self._download_other(url)\n",
        "        else:\n",
        "            logging.info(\"Downloading Finished\")"
      ]
    },
    {
      "cell_type": "code",
      "execution_count": null,
      "metadata": {
        "id": "4nQg1pF1-1W4"
      },
      "outputs": [],
      "source": [
        "# @title Uploader (Gozle Disk [Selenium]) {run:\"auto\"}\n",
        "class Uploader:\n",
        "    def __init__(self):\n",
        "        self._GOZLE_URL: str = \"https://disk.gozle.org/login\"\n",
        "        self._GOZLE_DISK: str = \"https://disk.gozle.org/drive\"\n",
        "        self._gozle_username: Optional[str] = userdata.get(\"username\")\n",
        "        self._gozle_password: Optional[str] = userdata.get(\"password\")\n",
        "        self._archive_paths: Dict[str, str] = {}\n",
        "        self._directories: List[str] = [\"others\", \"videos\", \"torrents\"]\n",
        "\n",
        "    def _set_webdriver_options(self) -> None:\n",
        "        chrome_options = webdriver.ChromeOptions()\n",
        "        chrome_options.add_argument('--headless')\n",
        "        chrome_options.add_argument('--no-sandbox')\n",
        "        chrome_options.add_argument('--disable-dev-shm-usage')\n",
        "        self.driver: WebDriver = webdriver.Chrome(options=chrome_options)\n",
        "        self.driver.maximize_window()\n",
        "        self.wait: WebDriverWait = WebDriverWait(self.driver, 10)\n",
        "\n",
        "    def login(self) -> None:\n",
        "        self._set_webdriver_options()\n",
        "        self.driver.get(self._GOZLE_URL)\n",
        "        self.wait.until(EC.presence_of_element_located((By.NAME, 'email'))).send_keys(self._gozle_username)\n",
        "        self.driver.find_element(By.NAME,value='password').send_keys(self._gozle_password)\n",
        "        self.driver.find_element(By.CSS_SELECTOR, 'button[type = \\'submit\\']').click()\n",
        "        logging.info(\"Login Succesfull\")\n",
        "\n",
        "    def _get_uploading_menu(self):\n",
        "        try:\n",
        "            return self.wait.until(EC.presence_of_element_located((By.XPATH, '//*[@id=\"root\"]/div[2]/div[5]/div[2]/div')))\n",
        "        except (NoSuchElementException, TimeoutException):\n",
        "            return None\n",
        "\n",
        "    def _check_uploads(self) -> Optional[List[Tuple[str, str, str]]]:\n",
        "        uploading_menu = self._get_uploading_menu()\n",
        "        if not uploading_menu:\n",
        "            return None\n",
        "        uploading_items = uploading_menu.find_elements(By.XPATH, \"./div\")\n",
        "        items = []\n",
        "        for div_N in uploading_items:\n",
        "            item_name = div_N.find_element(By.XPATH, './div[2]/div[1]/div').text\n",
        "            item_status = div_N.find_element(By.XPATH, './div[2]/div[2]').text\n",
        "            if item_status == \"Upload complete\" or item_status == \"Upload failed\":\n",
        "                continue\n",
        "            else:\n",
        "                item_percentage = float(div_N.find_element(By.XPATH,\n",
        "                                                        './div[3]/div/div').get_attribute(\"aria-valuenow\"))\n",
        "                items.append((item_name, item_status, item_percentage))\n",
        "        return items\n",
        "\n",
        "    def _check_uploads_all_tabs(self) -> List[Tuple[str, str, float]]:\n",
        "        all_items = []\n",
        "        default_window_handle = self.driver.current_window_handle\n",
        "        for window_handle in self.driver.window_handles:\n",
        "            self.driver.switch_to.window(window_handle)\n",
        "            items = self._check_uploads()\n",
        "            if items is not None:\n",
        "                all_items.extend(items)\n",
        "        self.driver.switch_to.window(default_window_handle)\n",
        "        return all_items\n",
        "\n",
        "    def _is_uploading(self) -> bool:\n",
        "        try:\n",
        "            title = self.driver.find_element(By.XPATH, '//*[@id=\"root\"]/div[2]/div[5]/div[1]').text.split()[0]\n",
        "            return True if title == \"Uploading\" else False\n",
        "        except Exception as e:\n",
        "            logging.error(\"Nothing Uploading\")\n",
        "            return False\n",
        "\n",
        "    def _display_uploading_status(self) -> None:\n",
        "        progress_bars = {}\n",
        "        while self._is_uploading():\n",
        "            data = self._check_uploads_all_tabs()\n",
        "            for title, status, percentage in data:\n",
        "                if title not in progress_bars:\n",
        "                    progress, label = self._display_progress_bar(title, status, percentage)\n",
        "                    progress_bars[title] = (progress, label)\n",
        "                else:\n",
        "                    progress, label = progress_bars[title]\n",
        "                    progress.value = percentage\n",
        "                    label.value = f\"Status: {status}\"\n",
        "        logging.info(\"Uploading complete\")\n",
        "\n",
        "    def _display_progress_bar(self, title:str, status:str, percentage:float) -> Tuple[FloatProgress, Label]:\n",
        "        progress = FloatProgress(value=percentage, description=title,\n",
        "                                max=100, style={\"description_width\": \"initial\"},\n",
        "                                layout={\"width\": \"550px\"})\n",
        "        label = Label(value=f\"Status: {status}\")\n",
        "        display(HBox([progress, label]))\n",
        "        return progress, label\n",
        "\n",
        "    def _print_uploading_status(self) -> None:\n",
        "        try:\n",
        "            items = self._check_uploads_all_tabs()\n",
        "            [logging.info(f\"Item: {name}, Status: {status}, {percent}\") for name, status, percent in items]\n",
        "        except TypeError:\n",
        "            logging.warning(\"Nothing Uploading\")\n",
        "\n",
        "    def _has_visible_files(self, directory: str) -> bool:\n",
        "        return any(True for _ in os.scandir(directory))\n",
        "\n",
        "    def _archive_data(self, directory: str) -> None:\n",
        "        dir_name = directory.split('/')[0]\n",
        "        timestamp = datetime.datetime.now().strftime(\"%d-%m_%H:%M\")\n",
        "        archive_name = f\"{dir_name}_{timestamp}.zip\"\n",
        "        logging.info(\"Starting archiving\")\n",
        "        !zip -fz -r -m -s 5000m {archive_name} {directory}\n",
        "\n",
        "    def _update_uploads_list(self) -> None:\n",
        "        uploading_items = self._check_uploads_all_tabs()\n",
        "        cwd = os.getcwd()\n",
        "        files = [file for file in os.listdir(cwd) if not file.startswith('.') \\\n",
        "            and (fnmatch(file, '*.z*'))]\n",
        "        for file in files:\n",
        "            if not uploading_items or file not in [item[0] for item in uploading_items]:\n",
        "                self._archive_paths[file] = os.path.join(cwd, file)\n",
        "            else:\n",
        "                logging.info(f\"{file} is already uploading, skipping.\")\n",
        "\n",
        "\n",
        "    def _open_new_tab(self) -> None:\n",
        "        self.driver.switch_to.new_window(\"tab\")\n",
        "        self.driver.get(self._GOZLE_DISK)\n",
        "\n",
        "    def upload(self) -> None:\n",
        "        [self._archive_data(directory) for directory in self._directories\n",
        "         if os.path.exists(directory) and self._has_visible_files(directory)]\n",
        "        self._update_uploads_list()\n",
        "        if not self._archive_paths:\n",
        "            return\n",
        "\n",
        "        files_per_tab = 3\n",
        "        for i, filename in enumerate(list(self._archive_paths.keys())):\n",
        "            if i > 0 and i % files_per_tab == 0:\n",
        "                self._open_new_tab()\n",
        "            path = self._archive_paths.pop(filename)\n",
        "            self.wait.until(EC.presence_of_element_located((By.XPATH, \"//div//div[2]//div//div//div//button[starts-with(@id, ':r')]\"))).click()\n",
        "            self.driver.find_element(By.XPATH, \"//div[@data-value='uploadFiles']\").click()\n",
        "            self.driver.find_element(By.CSS_SELECTOR, value='input[type = \\'file\\']').send_keys(path)\n",
        "            logging.info(f\"Uploading {filename}\")\n",
        "        self._display_uploading_status()\n",
        "\n",
        "    def refresh_page(self) -> None:\n",
        "        self.driver.refresh()\n",
        "\n",
        "    def screenshot(self, filename=\"uploading\") -> None:\n",
        "        self.driver.save_screenshot(f\"{filename}.png\")"
      ]
    },
    {
      "cell_type": "code",
      "source": [
        "# @title Torrent Client {run:\"auto\"}\n",
        "def download_torrent(magnet_or_torrent: Union[str, lt.torrent_info]) -> None:\n",
        "    ses = lt.session({\"listen_interfaces\": \"0.0.0.0:6881, [::]:6881, 0.0.0.0:6969, [::]:6969\"})\n",
        "\n",
        "    state_str = [\n",
        "        \"queued\", \"checking\", \"downloading metadata\", \"downloading\",\n",
        "        \"finished\", \"seeding\", \"allocating\", \"checking fastresume\"]\n",
        "\n",
        "    if isinstance(magnet_or_torrent, str) and magnet_or_torrent.startswith('magnet:'):\n",
        "        params = lt.parse_magnet_uri(magnet_or_torrent)\n",
        "        params.save_path = \"/content/torrents\"\n",
        "        h = ses.add_torrent(params)\n",
        "        while not h.torrent_file():\n",
        "            time.sleep(1)\n",
        "        info = h.torrent_file()\n",
        "    else:\n",
        "        info = magnet_or_torrent if isinstance(magnet_or_torrent, lt.torrent_info) else lt.torrent_info(magnet_or_torrent)\n",
        "        params = lt.add_torrent_params()\n",
        "        params.ti = info\n",
        "        params.save_path = \"/content/torrents\"\n",
        "        h = ses.add_torrent(params)\n",
        "\n",
        "    s = h.status()\n",
        "    total_size = info.piece_length() * info.num_pieces()\n",
        "    logging.info(f\"starting {s.name} with total size: {total_size / 1073741824:.1f} GB\")\n",
        "\n",
        "    while s.state != lt.torrent_status.seeding:\n",
        "        s = h.status()\n",
        "        eta = \"N/A\"\n",
        "        if s.download_rate > 0:\n",
        "            eta_seconds = int(total_size - s.total_done) / s.download_rate\n",
        "            eta = str(datetime.timedelta(seconds=round(eta_seconds)))\n",
        "\n",
        "        print('\\r%.2f%% complete (down: %.2f Mbit/s up: %.2f Mbit/s peers: %d ETA: %s) %s' % (\n",
        "            s.progress * 100, s.download_rate / 1024 * 0.008, s.upload_rate / 1024 * 0.008,\n",
        "            s.num_peers, eta, state_str[s.state]), end=' ')\n",
        "\n",
        "        sys.stdout.flush()\n",
        "        time.sleep(1)\n",
        "    logging.info(f\"\\n{h.status().name} completed\")"
      ],
      "metadata": {
        "id": "x6ygKswW8yhI",
        "cellView": "form"
      },
      "execution_count": null,
      "outputs": []
    },
    {
      "cell_type": "markdown",
      "metadata": {
        "id": "ONm7oPnPLeF7"
      },
      "source": [
        "# Instances"
      ]
    },
    {
      "cell_type": "code",
      "execution_count": null,
      "metadata": {
        "id": "WmF0LMfpLgkN"
      },
      "outputs": [],
      "source": [
        "d = Downloader()\n",
        "u = Uploader()"
      ]
    },
    {
      "cell_type": "markdown",
      "source": [
        "Use ▶️ button  in cell above ⬆️ to run cell and add downloads in cell below ⬇️\n",
        "\n",
        "```\n",
        "d.add_url(\"URL\")\n",
        "```\n",
        "```\n",
        "d.add_downloads_from_file(\"filename\")\n",
        "```\n",
        "```\n",
        "d.download()\n",
        "```\n",
        "```\n",
        "download_torrent(\"torrent filename or magnet link\")\n",
        "```"
      ],
      "metadata": {
        "id": "yn6FZlAYwwjX"
      }
    },
    {
      "cell_type": "code",
      "source": [
        "d.add_url(\"\")"
      ],
      "metadata": {
        "id": "vXuetI3BGWB0"
      },
      "execution_count": null,
      "outputs": []
    },
    {
      "cell_type": "code",
      "source": [
        "# d.add_downloads_from_file(\"downloads.txt\")"
      ],
      "metadata": {
        "id": "3u7VAZTy-Azq"
      },
      "execution_count": null,
      "outputs": []
    },
    {
      "cell_type": "code",
      "source": [
        "d.download()"
      ],
      "metadata": {
        "id": "AiDRs2h-tOjF"
      },
      "execution_count": null,
      "outputs": []
    },
    {
      "cell_type": "code",
      "execution_count": null,
      "metadata": {
        "id": "EggQa4yg9nT-"
      },
      "outputs": [],
      "source": [
        "u.login()"
      ]
    },
    {
      "cell_type": "code",
      "execution_count": null,
      "metadata": {
        "id": "TdWK2jC8Lyvy"
      },
      "outputs": [],
      "source": [
        "u.upload()"
      ]
    }
  ],
  "metadata": {
    "colab": {
      "provenance": [],
      "private_outputs": true,
      "include_colab_link": true
    },
    "kernelspec": {
      "display_name": "Python 3",
      "name": "python3"
    },
    "language_info": {
      "name": "python"
    }
  },
  "nbformat": 4,
  "nbformat_minor": 0
}